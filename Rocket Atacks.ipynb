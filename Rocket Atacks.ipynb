{
 "cells": [
  {
   "cell_type": "markdown",
   "metadata": {},
   "source": [
    "# Rocket Atacks\n",
    "\n",
    "Project Plan:\n",
    "\n",
    "1. Data Aquisition\n",
    "2. Data Cleaning"
   ]
  },
  {
   "cell_type": "code",
   "execution_count": 1,
   "metadata": {},
   "outputs": [],
   "source": [
    "# import necessary libraries\n",
    "import requests\n",
    "from bs4 import BeautifulSoup as bs\n",
    "from time import *\n",
    "import re\n",
    "from random import randint"
   ]
  },
  {
   "cell_type": "code",
   "execution_count": 2,
   "metadata": {},
   "outputs": [],
   "source": [
    "# specify the parameters of the browser settings\n",
    "header = {'User-Agent': 'Mozilla/5.0 (Windows NT 10.0; WOW64) AppleWebKit/537.36 (KHTML, like Gecko) Chrome/83.0.4103.61 Safari/537.36'}\n",
    "\n",
    "# create a url list to scrape data from all pages\n",
    "url = 'https://en.wikipedia.org/wiki/Lists_of_Palestinian_rocket_attacks_on_Israel'\n",
    "\n",
    "def get_page(url):\n",
    "    \"\"\"\n",
    "    function to get the page status of the bs object and bs soup object\n",
    "    \"\"\"\n",
    "    page = requests.get(url, headers = header)\n",
    "    status = page.status_code\n",
    "    soup = bs(page.text, 'lxml')\n",
    "    return [soup, status]\n",
    "\n",
    "soup = get_page(url)[0]"
   ]
  },
  {
   "cell_type": "code",
   "execution_count": 5,
   "metadata": {},
   "outputs": [
    {
     "data": {
      "text/plain": [
       "58"
      ]
     },
     "execution_count": 5,
     "metadata": {},
     "output_type": "execute_result"
    }
   ],
   "source": [
    "len('/wiki/List_of_Palestinian_rocket_attacks_on_Israel_in_2009')"
   ]
  },
  {
   "cell_type": "code",
   "execution_count": 17,
   "metadata": {},
   "outputs": [],
   "source": [
    "def get_links(soup):\n",
    "    \"\"\"\n",
    "    collect the links fron the individual webpages of wiki,\n",
    "    collect only those that are 58 symbols length\n",
    "    \"\"\"\n",
    "    list_links = []\n",
    "    for link in soup.findAll('li'):\n",
    "        if len(link.a['href']) == 58:\n",
    "            if link.a['href'][-4:] != '2021':\n",
    "                list_links.append(link.a['href'])\n",
    "            elif link.a['href'][-4:] == '2021':\n",
    "                list_links.append(link.a['href'])\n",
    "                break\n",
    "            else:\n",
    "                break\n",
    "    return list_links\n",
    "\n",
    "list_links = get_links(soup)"
   ]
  },
  {
   "cell_type": "code",
   "execution_count": 19,
   "metadata": {},
   "outputs": [],
   "source": [
    "def get_full_url(list_links):\n",
    "    \"\"\"\n",
    "    append base site to individual links\n",
    "    \"\"\"\n",
    "    ready_links = []\n",
    "    base_url = 'https://en.wikipedia.org'\n",
    "    for link in list_links:\n",
    "\n",
    "        full_url = base_url + link\n",
    "\n",
    "        ready_links.append(full_url)\n",
    "    return ready_links\n",
    "\n",
    "ready_links = get_full_url(list_links)"
   ]
  },
  {
   "cell_type": "code",
   "execution_count": 20,
   "metadata": {},
   "outputs": [
    {
     "data": {
      "text/plain": [
       "['https://en.wikipedia.org/wiki/List_of_Palestinian_rocket_attacks_on_Israel_in_2001',\n",
       " 'https://en.wikipedia.org/wiki/List_of_Palestinian_rocket_attacks_on_Israel_in_2007',\n",
       " 'https://en.wikipedia.org/wiki/List_of_Palestinian_rocket_attacks_on_Israel_in_2008',\n",
       " 'https://en.wikipedia.org/wiki/List_of_Palestinian_rocket_attacks_on_Israel_in_2009',\n",
       " 'https://en.wikipedia.org/wiki/List_of_Palestinian_rocket_attacks_on_Israel_in_2010',\n",
       " 'https://en.wikipedia.org/wiki/List_of_Palestinian_rocket_attacks_on_Israel_in_2011',\n",
       " 'https://en.wikipedia.org/wiki/List_of_Palestinian_rocket_attacks_on_Israel_in_2012',\n",
       " 'https://en.wikipedia.org/wiki/List_of_Palestinian_rocket_attacks_on_Israel_in_2013',\n",
       " 'https://en.wikipedia.org/wiki/List_of_Palestinian_rocket_attacks_on_Israel_in_2014',\n",
       " 'https://en.wikipedia.org/wiki/List_of_Palestinian_rocket_attacks_on_Israel_in_2015',\n",
       " 'https://en.wikipedia.org/wiki/List_of_Palestinian_rocket_attacks_on_Israel_in_2016',\n",
       " 'https://en.wikipedia.org/wiki/List_of_Palestinian_rocket_attacks_on_Israel_in_2017',\n",
       " 'https://en.wikipedia.org/wiki/List_of_Palestinian_rocket_attacks_on_Israel_in_2018',\n",
       " 'https://en.wikipedia.org/wiki/List_of_Palestinian_rocket_attacks_on_Israel_in_2019',\n",
       " 'https://en.wikipedia.org/wiki/List_of_Palestinian_rocket_attacks_on_Israel_in_2020',\n",
       " 'https://en.wikipedia.org/wiki/List_of_Palestinian_rocket_attacks_on_Israel_in_2021']"
      ]
     },
     "execution_count": 20,
     "metadata": {},
     "output_type": "execute_result"
    }
   ],
   "source": [
    "ready_links"
   ]
  },
  {
   "cell_type": "code",
   "execution_count": 22,
   "metadata": {},
   "outputs": [],
   "source": [
    "url = 'https://en.wikipedia.org/wiki/List_of_Palestinian_rocket_attacks_on_Israel_in_2012'\n",
    "\n",
    "def get_page(url):\n",
    "    \"\"\"\n",
    "    function to get the page status of the bs object and bs soup object\n",
    "    \"\"\"\n",
    "    page = requests.get(url, headers = header)\n",
    "    status = page.status_code\n",
    "    soup = bs(page.text, 'lxml')\n",
    "    return [soup, status]\n",
    "\n",
    "soup = get_page(url)[0]"
   ]
  },
  {
   "cell_type": "code",
   "execution_count": 28,
   "metadata": {},
   "outputs": [
    {
     "name": "stdout",
     "output_type": "stream",
     "text": [
      "Scraping page 0\n",
      "I waited 11 seconds\n",
      "Scraping page 1\n",
      "I waited 15 seconds\n",
      "Scraping page 2\n",
      "I waited 10 seconds\n",
      "Scraping page 3\n",
      "I waited 15 seconds\n",
      "Scraping page 4\n",
      "I waited 11 seconds\n",
      "Scraping page 5\n",
      "I waited 11 seconds\n",
      "Scraping page 6\n",
      "I waited 9 seconds\n",
      "Scraping page 7\n",
      "I waited 10 seconds\n",
      "Scraping page 8\n",
      "I waited 10 seconds\n",
      "Scraping page 9\n",
      "I waited 9 seconds\n",
      "Scraping page 10\n",
      "I waited 13 seconds\n",
      "Scraping page 11\n",
      "I waited 13 seconds\n",
      "Scraping page 12\n",
      "I waited 13 seconds\n",
      "Scraping page 13\n",
      "I waited 13 seconds\n",
      "Scraping page 14\n",
      "I waited 12 seconds\n",
      "Scraping page 15\n",
      "I waited 12 seconds\n"
     ]
    },
    {
     "data": {
      "application/javascript": [
       "\n",
       "        if (window._pyforest_update_imports_cell) { window._pyforest_update_imports_cell('import pandas as pd'); }\n",
       "    "
      ],
      "text/plain": [
       "<IPython.core.display.Javascript object>"
      ]
     },
     "metadata": {},
     "output_type": "display_data"
    }
   ],
   "source": [
    "def extract_data(ready_links):\n",
    "    \"\"\"\n",
    "    iterate across links, with delay and get dict:\n",
    "    name and info columns, create dataframe from this dict\n",
    "    \"\"\"\n",
    "    get_info = []\n",
    "\n",
    "    i = 0\n",
    "    for link in ready_links:\n",
    "\n",
    "        x = randint(9,15)\n",
    "        print(f'Scraping page {i}')\n",
    "        print(f'I waited {x} seconds')\n",
    "        sleep(x)\n",
    "        \n",
    "        res = requests.get(link).text\n",
    "        soup = bs(res, 'lxml')\n",
    "        info = soup.find('div',{'class':'vector-body'}).get_text().strip()\n",
    "        name = soup.find('h1',{'class':'firstHeading'}).get_text()\n",
    "\n",
    "        dic = {\n",
    "            'info': info,\n",
    "            'name': name}\n",
    "\n",
    "        get_info.append(dic)\n",
    "        i+=1\n",
    "    df = pd.DataFrame(get_info) \n",
    "    df.to_csv('pipelines.csv')\n",
    "    return df\n",
    "\n",
    "df = extract_data(ready_links)"
   ]
  },
  {
   "cell_type": "code",
   "execution_count": 29,
   "metadata": {},
   "outputs": [
    {
     "data": {
      "text/html": [
       "<div>\n",
       "<style scoped>\n",
       "    .dataframe tbody tr th:only-of-type {\n",
       "        vertical-align: middle;\n",
       "    }\n",
       "\n",
       "    .dataframe tbody tr th {\n",
       "        vertical-align: top;\n",
       "    }\n",
       "\n",
       "    .dataframe thead th {\n",
       "        text-align: right;\n",
       "    }\n",
       "</style>\n",
       "<table border=\"1\" class=\"dataframe\">\n",
       "  <thead>\n",
       "    <tr style=\"text-align: right;\">\n",
       "      <th></th>\n",
       "      <th>info</th>\n",
       "      <th>name</th>\n",
       "    </tr>\n",
       "  </thead>\n",
       "  <tbody>\n",
       "    <tr>\n",
       "      <th>0</th>\n",
       "      <td>From Wikipedia, the free encyclopedia\\n\\n\\n\\nJ...</td>\n",
       "      <td>List of Palestinian rocket attacks on Israel i...</td>\n",
       "    </tr>\n",
       "    <tr>\n",
       "      <th>1</th>\n",
       "      <td>From Wikipedia, the free encyclopedia\\n\\n\\n\\nJ...</td>\n",
       "      <td>List of Palestinian rocket attacks on Israel i...</td>\n",
       "    </tr>\n",
       "    <tr>\n",
       "      <th>2</th>\n",
       "      <td>From Wikipedia, the free encyclopedia\\n\\n\\n\\nJ...</td>\n",
       "      <td>List of Palestinian rocket attacks on Israel i...</td>\n",
       "    </tr>\n",
       "    <tr>\n",
       "      <th>3</th>\n",
       "      <td>From Wikipedia, the free encyclopedia\\n\\n\\n\\nJ...</td>\n",
       "      <td>List of Palestinian rocket attacks on Israel i...</td>\n",
       "    </tr>\n",
       "    <tr>\n",
       "      <th>4</th>\n",
       "      <td>From Wikipedia, the free encyclopedia\\n\\n\\n\\nJ...</td>\n",
       "      <td>List of Palestinian rocket attacks on Israel i...</td>\n",
       "    </tr>\n",
       "    <tr>\n",
       "      <th>5</th>\n",
       "      <td>From Wikipedia, the free encyclopedia\\n\\n\\n\\nJ...</td>\n",
       "      <td>List of Palestinian rocket attacks on Israel i...</td>\n",
       "    </tr>\n",
       "    <tr>\n",
       "      <th>6</th>\n",
       "      <td>From Wikipedia, the free encyclopedia\\n\\n\\n\\nJ...</td>\n",
       "      <td>List of Palestinian rocket attacks on Israel i...</td>\n",
       "    </tr>\n",
       "    <tr>\n",
       "      <th>7</th>\n",
       "      <td>From Wikipedia, the free encyclopedia\\n\\n\\n\\nJ...</td>\n",
       "      <td>List of Palestinian rocket attacks on Israel i...</td>\n",
       "    </tr>\n",
       "    <tr>\n",
       "      <th>8</th>\n",
       "      <td>From Wikipedia, the free encyclopedia\\n\\n\\n\\nJ...</td>\n",
       "      <td>List of Palestinian rocket attacks on Israel i...</td>\n",
       "    </tr>\n",
       "    <tr>\n",
       "      <th>9</th>\n",
       "      <td>From Wikipedia, the free encyclopedia\\n\\n\\n\\nJ...</td>\n",
       "      <td>List of Palestinian rocket attacks on Israel i...</td>\n",
       "    </tr>\n",
       "    <tr>\n",
       "      <th>10</th>\n",
       "      <td>From Wikipedia, the free encyclopedia\\n\\n\\n\\nJ...</td>\n",
       "      <td>List of Palestinian rocket attacks on Israel i...</td>\n",
       "    </tr>\n",
       "    <tr>\n",
       "      <th>11</th>\n",
       "      <td>From Wikipedia, the free encyclopedia\\n\\n\\n\\nJ...</td>\n",
       "      <td>List of Palestinian rocket attacks on Israel i...</td>\n",
       "    </tr>\n",
       "    <tr>\n",
       "      <th>12</th>\n",
       "      <td>From Wikipedia, the free encyclopedia\\n\\n\\n\\nJ...</td>\n",
       "      <td>List of Palestinian rocket attacks on Israel i...</td>\n",
       "    </tr>\n",
       "    <tr>\n",
       "      <th>13</th>\n",
       "      <td>From Wikipedia, the free encyclopedia\\n\\n\\n\\nJ...</td>\n",
       "      <td>List of Palestinian rocket attacks on Israel i...</td>\n",
       "    </tr>\n",
       "    <tr>\n",
       "      <th>14</th>\n",
       "      <td>From Wikipedia, the free encyclopedia\\n\\n\\n\\nJ...</td>\n",
       "      <td>List of Palestinian rocket attacks on Israel i...</td>\n",
       "    </tr>\n",
       "    <tr>\n",
       "      <th>15</th>\n",
       "      <td>From Wikipedia, the free encyclopedia\\n\\n\\n\\nJ...</td>\n",
       "      <td>List of Palestinian rocket attacks on Israel i...</td>\n",
       "    </tr>\n",
       "  </tbody>\n",
       "</table>\n",
       "</div>"
      ],
      "text/plain": [
       "                                                 info  \\\n",
       "0   From Wikipedia, the free encyclopedia\\n\\n\\n\\nJ...   \n",
       "1   From Wikipedia, the free encyclopedia\\n\\n\\n\\nJ...   \n",
       "2   From Wikipedia, the free encyclopedia\\n\\n\\n\\nJ...   \n",
       "3   From Wikipedia, the free encyclopedia\\n\\n\\n\\nJ...   \n",
       "4   From Wikipedia, the free encyclopedia\\n\\n\\n\\nJ...   \n",
       "5   From Wikipedia, the free encyclopedia\\n\\n\\n\\nJ...   \n",
       "6   From Wikipedia, the free encyclopedia\\n\\n\\n\\nJ...   \n",
       "7   From Wikipedia, the free encyclopedia\\n\\n\\n\\nJ...   \n",
       "8   From Wikipedia, the free encyclopedia\\n\\n\\n\\nJ...   \n",
       "9   From Wikipedia, the free encyclopedia\\n\\n\\n\\nJ...   \n",
       "10  From Wikipedia, the free encyclopedia\\n\\n\\n\\nJ...   \n",
       "11  From Wikipedia, the free encyclopedia\\n\\n\\n\\nJ...   \n",
       "12  From Wikipedia, the free encyclopedia\\n\\n\\n\\nJ...   \n",
       "13  From Wikipedia, the free encyclopedia\\n\\n\\n\\nJ...   \n",
       "14  From Wikipedia, the free encyclopedia\\n\\n\\n\\nJ...   \n",
       "15  From Wikipedia, the free encyclopedia\\n\\n\\n\\nJ...   \n",
       "\n",
       "                                                 name  \n",
       "0   List of Palestinian rocket attacks on Israel i...  \n",
       "1   List of Palestinian rocket attacks on Israel i...  \n",
       "2   List of Palestinian rocket attacks on Israel i...  \n",
       "3   List of Palestinian rocket attacks on Israel i...  \n",
       "4   List of Palestinian rocket attacks on Israel i...  \n",
       "5   List of Palestinian rocket attacks on Israel i...  \n",
       "6   List of Palestinian rocket attacks on Israel i...  \n",
       "7   List of Palestinian rocket attacks on Israel i...  \n",
       "8   List of Palestinian rocket attacks on Israel i...  \n",
       "9   List of Palestinian rocket attacks on Israel i...  \n",
       "10  List of Palestinian rocket attacks on Israel i...  \n",
       "11  List of Palestinian rocket attacks on Israel i...  \n",
       "12  List of Palestinian rocket attacks on Israel i...  \n",
       "13  List of Palestinian rocket attacks on Israel i...  \n",
       "14  List of Palestinian rocket attacks on Israel i...  \n",
       "15  List of Palestinian rocket attacks on Israel i...  "
      ]
     },
     "execution_count": 29,
     "metadata": {},
     "output_type": "execute_result"
    }
   ],
   "source": [
    "df"
   ]
  },
  {
   "cell_type": "markdown",
   "metadata": {},
   "source": [
    "# Data Cleaning"
   ]
  },
  {
   "cell_type": "markdown",
   "metadata": {},
   "source": [
    "Here is the marterial to work with"
   ]
  },
  {
   "cell_type": "code",
   "execution_count": 30,
   "metadata": {},
   "outputs": [
    {
     "data": {
      "text/plain": [
       "'From Wikipedia, the free encyclopedia\\n\\n\\n\\nJump to navigation\\nJump to search\\n\\n\\nPalestinian rocket attackson IsraelA rocket fired from the Gaza Stripinto Israel, 2008.\\nBy year (list)\\n2001\\n2002–2006\\n2007\\n2008\\n2008 ceasefire\\nGaza War\\n2009\\n2010\\n2011\\n2012\\n2013\\n2014\\n2015\\n2016\\n2017\\n2018\\n2019\\n2020\\n2021\\n\\nGroups responsible\\nFatah\\nHamas\\nIslamic Jihad\\nPFLP\\nDFLP\\nPRC\\nAnsar al-Sunna\\nForce 17\\nArmy of Islam\\nTawhid wal-Jihad\\nAbdullah Azzam Brigades\\nMujahideen Shura Council\\n\\nRocket types\\nMortar\\nQassam\\nAl-Quds\\nKatyusha\\nGrad\\nFajr-5\\n\\nCities affected\\nAshdod\\nAshkelon\\nBeersheba\\nEilat\\nGedera\\nKiryat Gat\\nKiryat Malakhi\\nNetivot\\nSderot\\nOfakim\\nYavne\\nTel Aviv\\nJerusalem\\n\\nRegional Council areas affected\\nHof Ashkelon KarmiaNetiv HaAsaraYad MordechaiZikim\\nEshkol Nir OzNirimYesha\\nSha\\'ar HaNegev Kfar AzaNahal OzNir Am\\nSdot Negev AlumimSa\\'ad\\nMerhavim\\nBe\\'er Tuvia\\nYoav\\nBnei Shimon\\nGush Etzion\\n\\nSettlements affected (evacuated)\\nAtzmona\\nDugit\\nElei Sinai\\nGadid\\nGanei Tal\\nKatif\\nKfar Darom\\nMorag\\nNetzarim\\nNetzer Hazani\\nNeve Dekalim\\nNisanit\\nRafiah Yam\\nSlav\\n\\nDefense and response\\nCivil defense in Israel\\nRed Color\\nIron Dome\\nZAKA\\n\\nSee also\\nRocket attacks on Eilat\\nLebanese rocket attacks on Israel\\nvte\\nThe following is a list of Palestinian rocket and mortar attacks on Israel in 2001. Almost all of the incidents were mortar attacks, as the Qassam rocket was first launched on July 10 of the year, and first used against civilian targets in October and November, when four rockets were fired on Sderot in Israel and various Gush Katif settlements in the Gaza Strip.[1][2]\\nIn 2001, Israel maintained a military and civilian presence in the Gaza Strip. This list includes attacks on Israel proper and on Israeli civilian communities in the Gaza Strip, but not on Israeli military targets in the territory. Israel withdrew completely from the territory in 2005.\\n\\nContents\\n\\n1 January\\n2 February\\n3 March\\n4 April\\n5 May\\n6 June\\n7 July\\n8 August\\n9 September\\n10 October\\n11 November\\n12 December\\n13 References\\n\\n\\nJanuary\\nJanuary 30\\nPalestinians fired a mortar shell at a house in Netzarim in the Gaza Strip. This was the first time Palestinians had used a ballistic weapon against a Jewish settlement. The shell penetrated the house\\'s roof but was stopped by a concrete ceiling. The family members living in the house were on the ground floor at the time, and there were no injuries.[3]\\nFebruary\\nFebruary 10\\nDuring the night, Palestinians fired a mortar shell at a house in the town of Netzarim. There were no injuries.[4] Israeli settlers began to set up new bomb shelters and stockpile food amid fears that the attacks were heralding an all-out war.[5]\\nFebruary 15\\nPalestinians fired two mortar shells at Netzarim. No injuries were reported.[6]\\nFebruary 22\\nIn the evening, Palestinians fired four mortar shells at the towns of Dugit and Elei Sinai in the Gaza Strip. Israel responded the following day by destroying two Palestinian police stations.[7]\\nMarch\\nMarch 4\\nPalestinians fired what appeared to be mortar shells at Netzarim. No injuries were reported.[8]\\nMarch 8\\nIn the evening,  Palestinians fired two mortar shells at Netzarim. There were no injuries, but residents were instructed to enter bomb shelters.[9]\\nMarch 17\\nShortly after midnight, Palestinians in Khan Yunis fired an anti-tank missile at the Neve Dekalim industrial zone in the Gaza Strip.[10]\\nMarch 18\\nIn the evening, Palestinians fired three mortar shells from the Gaza Strip at the Israeli farming community of Nahal Oz, wounding a soldier. This was the first Palestinian ballistic attack on Israel proper in the Second Intifada.[11][12]\\nMarch 21\\nIn the evening, Palestinian Authority Force 17 fighters fired two mortar shells at the town of Morag in the Gaza Strip and three mortar shells at Netzarim. Israel responded by firing mortars at a nearby Palestinian police post, killing an officer.[13][14]\\nMarch 26\\nIn the evening, Palestinians fired three mortar shells at Morag. No injuries were reported.[15][16]\\nApril\\nApril 3\\nPalestinians fired three mortar shells into the village of Atzmona in the Gaza Strip. The shrapnel from one of the mortars sprayed a 10-month-old baby and his mother, critically wounding the baby and lightly wounding the mother. A group calling itself \"Hezbollah-Palestine\" claimed responsibility. Israel responded with airstrikes on several Palestinian Authority police buildings.[17]\\nApril 6\\nPalestinians fired mortars on three unspecified Israeli settlements and one communal farm in Israel. There were no injuries. Israel responded with airstrikes on two Palestinian police stations.[18]\\nApril 7\\nOn the eve of Passover, Palestinians fired a mortar shell at Elei Sinai. There were no injuries.[19]\\nApril 8\\nLate in the first day of Passover, Palestinians fired five mortar shells at Nahal Oz and an adjacent IDF post. Israel responded by shelling Palestinian security headquarters at Beit Lahiya in the northern Gaza Strip.[20]\\nApril 9\\nIn the afternoon of the second day of Passover, Palestinians fired a mortar shell at Atzmona. A school in the community was damaged, but there were no injuries.[21][22]\\nApril 10\\nOn the third day of Passover, Palestinians fired two mortar shells at the town of Katif in the Gaza Strip, causing no injuries. Israel responded by rocketing the Palestinian Naval Police headquarters in Gaza City and a military intelligence building in Deir el-Balah, killing a police doctor. Later in the day, Palestinians fired additional mortars at Nisanit. Israel responded by firing on a Palestinian police station in the northern Gaza Strip.[23]\\nApril 11\\nIn the evening of the fourth day of Passover, Palestinians fired mortars shells at the towns of Nisanit and Kfar Darom in the Gaza Strip and at Kibbutz Netiv HaAsara in Israel.[24]\\nApril 15\\nAfter dark, Palestinians fired four mortar shells at the towns of Netzer Hazani and Katif in the Gaza Strip, causing no injuries.[25]\\nApril 16\\nPalestinians fired four mortar shells on the city of Sderot in Israel, causing no injuries or damage. Hamas claimed responsibility for the attack. Israel responded by seizing Palestinian-controlled areas in the Gaza Strip and rocketing Palestinian military installations, killing a Palestinian policeman.[26]\\nApril 17\\nPalestinians fired six mortar shells at Neve Dekalim.[27]\\nApril 18\\nIn the morning, Palestinians fired mortars at Nisanit. Hamas claimed responsibility, saying the attack was \"dedicated\" to the families of Syrian soldiers killed in a radar position in Lebanon.[28] After nightfall, Palestinians fired five additional mortars at the village of Nir Am in Israel and at Kfar Darom.[27]\\nApril 19\\nIn the afternoon, Palestinians fired two mortar shells which landed between Atzmona and Morag. There were no injuries. Israel did not respond to the attack.[29]\\nApril 24\\nAfter a respite of several days from mortar attacks, in the early evening Palestinians in Khan Yunis fired three mortar shells at the town of Gadid in the Gaza Strip. There were no injuries but a hothouse was damaged.[30]\\nApril 28\\nPalestinians fired five mortars at the village of Netzer Hazani in the Gaza Strip, hitting a recreation center and wounding six civilian youths, one seriously. A previously unknown group called The Four Martyrs, which claimed affiliation with Fatah, took responsibility for the attack, saying it was a retaliation for a recent blast in the Gaza Strip in which four Fatah activists were killed. Fatah itself disavowed the attack and denied knowledge of the group. Israel did not respond to the attack.[31][32][33]\\nApril 30\\nPalestinians in Khan Yunis fired two mortars at Gadid.[34]\\nMay\\nMay 4\\nPalestinians fired two mortar shells on Kfar Aza.[35]\\nMay 6\\nLate in the day, Palestinians fired a mortar shell at Netzarim.[36]\\nMay 7\\nPalestinians fired four mortar shells on Kfar Aza. No injuries or damage were reported. Israel responded by destroying a Palestinian police post.[37]\\nMay 9\\nIn the morning, Palestinians fired two mortar shells on Nisanit.[37]\\nMay 11\\nPalestinians fired six mortar shells at unspecified Israeli settlements and towns.[38]\\nMay 15\\nIn the morning, Hamas militants were firing mortars at Kfar Aza when they were killed by IDF tank fire.[39] After nightfall, Palestinians a mortar shell from Deir el-Ballah that hit the roof of a house in Kfar Darom, causing damage but no injuries. Two others mortars landed inside Israel near Kibbutz Nir Am.[40]\\nMay 17\\nPalestinians fired three mortar shells at two Jewish communities. One landed inside Israel, near Nir Am, and another landed at the entrance to Netzarim. In the evening, a third shell exploded in the backyard of a family home in Netzer Hazani, damaging the house. The family was not in the home at the time because they were visiting their son, who was wounded in the April 28 youth club shelling. Islamic Jihad claimed responsibility for the attacks on Nir Am and Netzer Hazani.[41][42]\\nMay 18\\nAfter daybreak, Palestinians fired a mortar shell at Gadid, which exploded among the community\\'s greenhouses.[42]\\nMay 19\\nPalestinians fired seven mortar shells at Gadid.[43]\\nMay 22\\nPalestinians fired three mortar shells into Israel, all of which exploded in open areas. No injuries or damage were reported.[44]\\nMay 24\\nIn the morning, Palestinians fired two mortar shells on Netzarim. There were no injuries.[45]\\nMay 26\\nAfter nightfall, Palestinians in Khan Yunis fired a mortar shell into Neve Dekalim.[46]\\nMay 30\\nIn the morning, Palestinians fired two mortar shells at Rafiah Yam.[47]\\nJune\\nJune 1\\nEarly in the day, Palestinians fired four mortar shells that exploded near greenhouses in the Israeli settlement of Slav in the Gaza Strip.[48]\\nJune 3\\nAfter nightfall, Palestinians fired two mortar shells toward Kfar Darom. There were no injuries.[49]\\nJune 7\\nAfter nightfall, Palestinians fired four mortar shells at Ganei Tal. There were no injuries.[50]\\nJune 8\\nPalestinians fired two mortar shells on Atzmona and Rafiah Yam. There were no injuries or damage. Israel responded by firing two anti-tank shells on a Palestinian Force 17 position.[51]\\nJune 10\\nPalestinians fired eight mortar shells at two unspecified Gaza Strip settlements.[52]\\nJune 12\\nPalestinians fired three mortar shells at Morag. There were no injuries.[53]\\nJune 13\\nIn the evening, several hours after a ceasefire went into effect, Palestinians fired a mortar shell at Atzmona.[54]\\nJune 14\\nWith the ceasefire still in effect, Palestinians fired five mortar shells at Morag after nightfall. Fatah claimed responsibility.[55][56]\\nJune 18\\nAfter nightfall, Palestinians fired four mortar shells at the Neve Dekalim industrial area.[57]\\nJune 19\\nPalestinians fired five mortar shells at Moshav Katif. There were no injuries.[58]\\nJune 21\\nPalestinians fired a 120mm mortar shell at an unspecified village in Israel, breaking car windows. It was the first time that this large shell type had been used.[59]\\nJune 29\\nPalestinians fired a mortar shell at Netzarim.[60]\\nJuly\\nJuly 4\\nPalestinians fired a mortar shell on an unspecified settlement.[61]\\nJuly 6\\nPalestinians fired a mortar shell toward Gadid.[62]\\nJuly 10\\nPalestinians fired a mortar shell on an unspecified farming community in Israel. There were no injuries.[63]\\nJuly 17\\nEarly in the morning, Palestinians fired two mortar shells at Morag and Netzer Hazani.[64]\\nPalestinians in Beit Jalla in the West Bank fired two mortar shells at the Gilo neighborhood of East Jerusalem. This was the first attack of its type in the area, though numerous shooting attacks from Beit Jalla had taken place previously.[65][66]\\nJuly 18\\nPalestinians fired two mortar shells at Kibbutz Nahal Oz in Israel.[67]\\nJuly 27\\nIn the evening, Palestinians fired mortar shells at Gadid. Israel responded by destroying a Palestinian munitions factory.[68][69]\\nJuly 30\\nPalestinians fired a mortar shell at Kfar Darom, wounding a 9-year-old girl.[70]\\nJuly 31\\nPalestinians fired rwo mortar shells at Netzarim and at least one mortar at Rafiah Yam.[71] In the evening, Palestinians fired two mortar shells at Atzmona. There were no injuries.[72]\\nAugust\\nThis section is empty.  You can help by adding to it.  (December 2010)\\nSeptember\\nThis section is empty.  You can help by adding to it.  (December 2010)\\nOctober\\nThis section is empty.  You can help by adding to it.  (December 2010)\\nNovember\\nThis section is empty.  You can help by adding to it.  (December 2010)\\nDecember\\nThis section is empty.  You can help by adding to it.  (December 2010)\\nReferences\\n\\n\\n^ Rocket threat from the Gaza Strip, 2000-2007 Archived 2011-08-13 at the Wayback Machine, ITIC 12-2007\\n\\n^ Anthony H. Cordesman, Arab-Israeli military forces in an era of asymmetric wars, Greenwood 2006, pp.325-326\\n\\n^ Palestinians fire mortar at Jewish settlement - TV, Israel TV 30-01-2001\\n\\n^ \"UN begins Mideast inquiry\". Television New Zealand. 11 February 2001. Retrieved 15 October 2011.\\n\\n^ Gaza Strip settlers fear all-out war, Telegraph 18-02-2001\\n\\n^ Sharon, Barak agree to form unity government, Associated Press 16-02-2001\\n\\n^ Palestinians burn US flags on eve of Powell visit, Victoria Advocate 24-02-2001\\n\\n^ Palestinians suicide bomber kills four, injures 50 in Israel, Associated Press 05-03-2001\\n\\n^ Sharon, Arafat both raise possibility of peace talks, Daily Gazette 09-03-2001\\n\\n^ Mortar attack on Nahal Oz, Jerusalem Post 19-03-2001\\n\\n^ Israel lashes out at Palestinian leadership, Associated Press 20-03-2001\\n\\n^ Foot-and-Mouth Disease Adds to Woes of West Bank, Jerusalem Post 18-03-2001\\n\\n^ Sharon vows to hit back at militants, Associated Press 23-03-2001\\n\\n^ Netzarim, Morag shelled by Force 17 men, Jerusalem Post 23-03-2001\\n\\n^ Gunfire from hill kills baby held by her father, Associated Press 27-03-2001\\n\\n^ Mortars fired at Morag, Jerusalem Post 27-03-2001\\n\\n^ Israeli helicopters attack Palestinian targets in Gaza,  Associated Press 04-04-2001\\n\\n^ Israel snatches 2 from Palestinian area, Associated Press 07-04-2001\\n\\n^ Violence complicates Passover, The Dispatch 07-04-2001\\n\\n^ Palestinians shell Israelis on both sides of the Green Line, Jerusalem Post 09-04-2001\\n\\n^ Palestinian death sparks more violence in West Bank, RTÉ News 09-04-2001\\n\\n^ Landau calls for \\'hourly\\' reprisals against PA. Gazan mortars fall on Atzmona, Jerusalem Post 10-04-2001\\n\\n^ Israel hits Palestinian targets in response to mortar fire, Associated Press 11-04-2001\\n\\n^ Settlements shelled following raid, Jerusalem Post 12-04-2001\\n\\n^ Gaza, Hebron attacks continue, Jerusalem Post 16-04-2001\\n\\n^ Israel seizes Palestinian-controlled areas in Gaza Strip, Associated Press 17-04-2001\\n\\n^ a b Israel flattens Palestinians police station, 19-04-2001\\n\\n^ Mideast: Hamas says settlement mortar attack \"dedicated\"to Syrian soldiers, Palestinian Information Center 18-04-2001\\n\\n^ Mideast: Mortar attacks continue, no casualties - Israel radio, Voice of Israel 19-04-2001\\n\\n^ Full closure imposed; security forces on high alert, Jerusalem Post 25-04-2001\\n\\n^ Six wounded in Israeli settlement by mortar fired from Gaza Strip, Voice of Israel 28-04-2001\\n\\n^ Five Israelis injured in attack, Tuscaloosa News 29-04-2001\\n\\n^ Jewish settlement shelled, Washington Post 29-04-2001\\n\\n^ Renewed violence kills eight, Associated Press 01-05-2001\\n\\n^ Mortar shells fall inside Israel amid criticism of government, The Vindicator 04-05-2001\\n\\n^ 1 Palestinian killed in clash with Israel, Associated Press 07-05-2001\\n\\n^ a b IDF denies Palestinian baby wounded by tank fire, Jerusalem Post 10-05-2001\\n\\n^ Israeli rocket attack caps bloody week, Los Angeles Times 12-05-2001\\n\\n^ Mortar crew killed in Gaza Strip, Mortar crew killed in Gaza Strip, Jerusalem Post 16-05-2001\\n\\n^ 4 Palestinians killed in Al-Nakba violence; mortars hit inside Israel, Jerusalem Post 16-05-2001\\n\\n^ IDF takes search for missing man into PA areas, Jerusalem Post 18-05-2001\\n\\n^ a b Gaza Strip violence rages on, Associated Press 19-05-2001\\n\\n^ Off-duty IDF officer killed in ambush, Jerusalem Post 20-05-2001\\n\\n^ Palestinians refuse offer, hold out for settlement freeze, Associated Press 23-05-2001\\n\\n^ Israel: Army makes brief incursion into Palestinian areas, Voice of Israel 24-05-2001\\n\\n^ Mideast: Palestinians use mortar bombs against Israelis in Gaza - Israel radio, Voice of Israel 27-05-2001\\n\\n^ Israeli radio reports mortars, shooting attacks in Gaza, Voice of Israel 30-05-2001\\n\\n^ Mideast violence persists, Associated Press 01-06-2001\\n\\n^ Mortars fired at settlement only \"violent incident\"in Gaza - Israel radio, Voice of Israel 03-06-2010\\n\\n^ Six mortar shells fired in Gaza Strip, Jerusalem Post 08-06-2001\\n\\n^ Israeli missiles blast PA security facilities in Gaza, Haaretz 09-06-2001\\n\\n^ U.S. Pushes for Cease-Fire in Middle East, New York Times 11-06-2001\\n\\n^ Palestinians fire mortars on Gaza settlement - Israel radio, Voice of Israel 12-06-2001\\n\\n^ Next 48 hours crucial for cease-fire, Associated Press 14-06-2001\\n\\n^ Three Israelis said wounded in West Bank shooting; mortars in Gaza Strip, Voice of Israel 15-06-2001\\n\\n^ Meeting to discuss ceasefire, Associated Press 15-06-2001\\n\\n^ Israel arrests settlers for planning attacks; mortars fired on settlement, Voice of Israel 19-06-2001\\n\\n^ Violence in Mideast strains fragile ceasefire, Associated Press 20-06-2001\\n\\n^ Israeli opposition to truce increasing, Associated Press 22-06-2001\\n\\n^ Violence persists as Israelis, Palestinians argue over start of test period of cease-fire, Associated Press 29-06-2001\\n\\n^ Prospects for Mideast peace appear bleak, outgoing ambassador says, Associated Press 05-07-2001\\n\\n^ Palestinian boy reported killed in Gaza clash, Jerusalem Post 08-07-2001\\n\\n^ \"Violence continues despite truce\". Television New Zealand. 11 July 2001. Retrieved 15 October 2011.\\n\\n^ IDF defuses roadside bombs in Jordan Valley, Jerusalem Post 18-07-2001\\n\\n^ Israeli missiles kill Hamas activists, Associated Press 18-07-2001\\n\\n^ Israeli forces boost West Bank positions, Associated Press 18-07-2001\\n\\n^ Palestinians fire mortars at Israeli targets, Voice of Israel 18-07-2001\\n\\n^ Israelis strike back, Tuscaloosa News 28-07-2001\\n\\n^ Israeli missiles target Gaza weapons factory, India Express 28-07-2001\\n\\n^ Six Palestinians killed in blast; Israel attacks police compound, Associated Press 31-07-2001\\n\\n^ Israel attacks Hamas offices, Associated Press 31-07-2010\\n\\n^ Israeli radio reports clashes in West Bank, Gaza, voice of Israel 31-07-2001\\n\\n\\n\\n\\n\\n\\nRetrieved from \"https://en.wikipedia.org/w/index.php?title=List_of_Palestinian_rocket_attacks_on_Israel_in_2001&oldid=1024623717\"\\nCategories: Second IntifadaFatahHamasGaza–Israel conflictIslamic Jihad Movement in PalestineRocket weapons of PalestineTerrorist incidents in Israel in 20012001 in the Palestinian territoriesPalestinian terrorismTerrorist attacks attributed to Palestinian militant groupsIsraeli–Palestinian conflict-related listsHidden categories: Webarchive template wayback linksWikipedia extended-confirmed-protected pagesArticles to be expanded from December 2010All articles to be expandedArticles with empty sections from December 2010All articles with empty sectionsArticles using small message boxes'"
      ]
     },
     "execution_count": 30,
     "metadata": {},
     "output_type": "execute_result"
    }
   ],
   "source": [
    "df['info'][0]"
   ]
  },
  {
   "cell_type": "markdown",
   "metadata": {},
   "source": [
    "Data Cleaning Plan:\n",
    "1. From column Name get only years\n",
    "2. Get the number of accidents from info column.\n",
    "3. Check for any damage occured\n",
    "4. Compute the number of people killed"
   ]
  },
  {
   "cell_type": "markdown",
   "metadata": {},
   "source": [
    "From column Name get only years"
   ]
  },
  {
   "cell_type": "code",
   "execution_count": 31,
   "metadata": {},
   "outputs": [],
   "source": [
    "def get_a_year(df):\n",
    "    \"\"\"\n",
    "    extract year info from a column\n",
    "    \"\"\"\n",
    "    df['Year'] = df['name'].str.extract(r'(\\d+)')\n",
    "    return df\n",
    "\n",
    "df =get_a_year(df) "
   ]
  },
  {
   "cell_type": "markdown",
   "metadata": {},
   "source": [
    "Get the number of accidents from info column"
   ]
  },
  {
   "cell_type": "code",
   "execution_count": 32,
   "metadata": {},
   "outputs": [],
   "source": [
    "def find_dates(x):\n",
    "    \"\"\"\n",
    "    find unique dates at which incidents occured, search for month and any two digits,\n",
    "    calculate the number of unique dates\n",
    "    \"\"\"\n",
    "    months = ['January','February','March','April','May','June',\n",
    "            'July','August','September','October','November','December']\n",
    "    \n",
    "    res = re.findall(r\"(January\\s\\d{2})|(February\\s\\d{2})|(March\\s\\d{2})|\\\n",
    "                 (April\\s\\d{2})|(May\\s\\d{2})|(June\\s\\d{2})\\\n",
    "                |(July\\s\\d{2})|(August\\s\\d{2})|(September\\s\\d{2})|\\\n",
    "                (October\\s\\d{2})|(November\\s\\d{2})|(December\\s\\d{2})\", x)\n",
    "    dates = []\n",
    "    for tupl in res:\n",
    "        for word in tupl:\n",
    "            if len(word) != 0:\n",
    "                dates.append(word)\n",
    "    return len(set(dates))\n",
    "\n",
    "df['number_incidents'] = df['info'].apply(lambda x: find_dates(x))"
   ]
  },
  {
   "cell_type": "code",
   "execution_count": 34,
   "metadata": {},
   "outputs": [],
   "source": [
    "# property damage\n",
    "df['info'] = df['info'].str.replace(',','')"
   ]
  },
  {
   "cell_type": "code",
   "execution_count": 35,
   "metadata": {},
   "outputs": [],
   "source": [
    "def find_damage(x):\n",
    "    \"\"\"\n",
    "    extract property damage string\n",
    "    \"\"\"\n",
    "    r1 = re.findall(r\"(\\$\\d+\\s[a-zA-Z]+?)\", x)\n",
    "    return ','.join(r1)\n",
    "\n",
    "df['damage'] = df['info'].apply(lambda x: find_damage(x))\n",
    "df['damage'] = df['damage'].str.lower()"
   ]
  },
  {
   "cell_type": "code",
   "execution_count": 37,
   "metadata": {},
   "outputs": [],
   "source": [
    "def find_millions(x):\n",
    "    \"\"\"\n",
    "    classify the info: if damage contains millions,\n",
    "    add 000000, then sum up values\n",
    "    \"\"\"\n",
    "    new_string = ''\n",
    "    res = ''\n",
    "    \n",
    "    splitted = x.split(',')\n",
    "    for ele in splitted:\n",
    "        if 'm' in ele:\n",
    "            ele = ele.replace('m', '000000')\n",
    "            new_string += ele\n",
    "        else:\n",
    "            res += ele\n",
    "    new_string = res + new_string\n",
    "    return new_string\n",
    "\n",
    "df['damage_numbers'] = df['damage'].apply(lambda x: find_millions(x))\n",
    "df['damage_numbers'] = df['damage_numbers'].str.replace(' ', '').str.replace(r'([a-z]+)','')"
   ]
  },
  {
   "cell_type": "code",
   "execution_count": 39,
   "metadata": {},
   "outputs": [],
   "source": [
    "def join(x):\n",
    "    \"\"\"\n",
    "    get rid of list datatype\n",
    "    \"\"\"\n",
    "    return ''.join(x)\n",
    "\n",
    "df['damage_numbers'] = df['damage_numbers'].apply(lambda x: join(x))\n",
    "df['damage_numbers'] = df['damage_numbers'].str.replace(r'\\xa0', '')\n",
    "df['damage_numbers'] = df['damage_numbers'].str.replace('$', ' ')"
   ]
  },
  {
   "cell_type": "markdown",
   "metadata": {},
   "source": [
    "Compute the number of people killed"
   ]
  },
  {
   "cell_type": "code",
   "execution_count": 41,
   "metadata": {},
   "outputs": [],
   "source": [
    "def fatalities(x):\n",
    "    \"\"\"\n",
    "    find people got killed (string)\n",
    "    \"\"\"\n",
    "    r1 = re.findall(r\"killed\\s?\\d+\", x)\n",
    "    return r1\n",
    "\n",
    "df['killed'] =  df['info'].apply(lambda x: fatalities(x))"
   ]
  },
  {
   "cell_type": "code",
   "execution_count": 43,
   "metadata": {},
   "outputs": [],
   "source": [
    "def numbers_killed(x):\n",
    "    \"\"\"\n",
    "    compute the number of killed\n",
    "    \"\"\"\n",
    "    if len(x) == 0:\n",
    "        return 0\n",
    "    elif len(x) == 1:\n",
    "        return int(''.join(x).split()[1])\n",
    "    else:\n",
    "        one  = x[0].split( )[1]\n",
    "        two = x[1].split( )[1]\n",
    "        return int(one) + int(two)\n",
    "    \n",
    "df['numbers_killed'] = df['killed'].apply(lambda x: numbers_killed(x))"
   ]
  },
  {
   "cell_type": "code",
   "execution_count": 45,
   "metadata": {},
   "outputs": [],
   "source": [
    "def dropping_columns(df):\n",
    "    \"\"\"\n",
    "    drop unnecessary columns\n",
    "    \"\"\"\n",
    "    df.drop(columns = ['info', 'name', 'damage','damage_numbers', 'killed'], axis = 1, inplace = True)\n",
    "    return df\n",
    "\n",
    "df = dropping_columns(df)"
   ]
  },
  {
   "cell_type": "markdown",
   "metadata": {},
   "source": [
    "# DataFrame cleaned"
   ]
  },
  {
   "cell_type": "code",
   "execution_count": 47,
   "metadata": {},
   "outputs": [
    {
     "data": {
      "text/html": [
       "<div>\n",
       "<style scoped>\n",
       "    .dataframe tbody tr th:only-of-type {\n",
       "        vertical-align: middle;\n",
       "    }\n",
       "\n",
       "    .dataframe tbody tr th {\n",
       "        vertical-align: top;\n",
       "    }\n",
       "\n",
       "    .dataframe thead th {\n",
       "        text-align: right;\n",
       "    }\n",
       "</style>\n",
       "<table border=\"1\" class=\"dataframe\">\n",
       "  <thead>\n",
       "    <tr style=\"text-align: right;\">\n",
       "      <th></th>\n",
       "      <th>Year</th>\n",
       "      <th>number_incidents</th>\n",
       "      <th>numbers_killed</th>\n",
       "    </tr>\n",
       "  </thead>\n",
       "  <tbody>\n",
       "    <tr>\n",
       "      <th>0</th>\n",
       "      <td>2001</td>\n",
       "      <td>29</td>\n",
       "      <td>0</td>\n",
       "    </tr>\n",
       "    <tr>\n",
       "      <th>1</th>\n",
       "      <td>2007</td>\n",
       "      <td>54</td>\n",
       "      <td>0</td>\n",
       "    </tr>\n",
       "    <tr>\n",
       "      <th>2</th>\n",
       "      <td>2008</td>\n",
       "      <td>74</td>\n",
       "      <td>0</td>\n",
       "    </tr>\n",
       "    <tr>\n",
       "      <th>3</th>\n",
       "      <td>2009</td>\n",
       "      <td>48</td>\n",
       "      <td>0</td>\n",
       "    </tr>\n",
       "    <tr>\n",
       "      <th>4</th>\n",
       "      <td>2010</td>\n",
       "      <td>61</td>\n",
       "      <td>0</td>\n",
       "    </tr>\n",
       "    <tr>\n",
       "      <th>5</th>\n",
       "      <td>2011</td>\n",
       "      <td>77</td>\n",
       "      <td>42</td>\n",
       "    </tr>\n",
       "    <tr>\n",
       "      <th>6</th>\n",
       "      <td>2012</td>\n",
       "      <td>78</td>\n",
       "      <td>2</td>\n",
       "    </tr>\n",
       "    <tr>\n",
       "      <th>7</th>\n",
       "      <td>2013</td>\n",
       "      <td>25</td>\n",
       "      <td>0</td>\n",
       "    </tr>\n",
       "    <tr>\n",
       "      <th>8</th>\n",
       "      <td>2014</td>\n",
       "      <td>66</td>\n",
       "      <td>0</td>\n",
       "    </tr>\n",
       "    <tr>\n",
       "      <th>9</th>\n",
       "      <td>2015</td>\n",
       "      <td>27</td>\n",
       "      <td>0</td>\n",
       "    </tr>\n",
       "    <tr>\n",
       "      <th>10</th>\n",
       "      <td>2016</td>\n",
       "      <td>10</td>\n",
       "      <td>0</td>\n",
       "    </tr>\n",
       "    <tr>\n",
       "      <th>11</th>\n",
       "      <td>2017</td>\n",
       "      <td>22</td>\n",
       "      <td>0</td>\n",
       "    </tr>\n",
       "    <tr>\n",
       "      <th>12</th>\n",
       "      <td>2018</td>\n",
       "      <td>12</td>\n",
       "      <td>0</td>\n",
       "    </tr>\n",
       "    <tr>\n",
       "      <th>13</th>\n",
       "      <td>2019</td>\n",
       "      <td>7</td>\n",
       "      <td>0</td>\n",
       "    </tr>\n",
       "    <tr>\n",
       "      <th>14</th>\n",
       "      <td>2020</td>\n",
       "      <td>8</td>\n",
       "      <td>0</td>\n",
       "    </tr>\n",
       "    <tr>\n",
       "      <th>15</th>\n",
       "      <td>2021</td>\n",
       "      <td>3</td>\n",
       "      <td>0</td>\n",
       "    </tr>\n",
       "  </tbody>\n",
       "</table>\n",
       "</div>"
      ],
      "text/plain": [
       "    Year  number_incidents  numbers_killed\n",
       "0   2001                29               0\n",
       "1   2007                54               0\n",
       "2   2008                74               0\n",
       "3   2009                48               0\n",
       "4   2010                61               0\n",
       "5   2011                77              42\n",
       "6   2012                78               2\n",
       "7   2013                25               0\n",
       "8   2014                66               0\n",
       "9   2015                27               0\n",
       "10  2016                10               0\n",
       "11  2017                22               0\n",
       "12  2018                12               0\n",
       "13  2019                 7               0\n",
       "14  2020                 8               0\n",
       "15  2021                 3               0"
      ]
     },
     "execution_count": 47,
     "metadata": {},
     "output_type": "execute_result"
    }
   ],
   "source": [
    "df.head(20)"
   ]
  },
  {
   "cell_type": "code",
   "execution_count": null,
   "metadata": {},
   "outputs": [],
   "source": []
  }
 ],
 "metadata": {
  "kernelspec": {
   "display_name": "Python 3",
   "language": "python",
   "name": "python3"
  },
  "language_info": {
   "codemirror_mode": {
    "name": "ipython",
    "version": 3
   },
   "file_extension": ".py",
   "mimetype": "text/x-python",
   "name": "python",
   "nbconvert_exporter": "python",
   "pygments_lexer": "ipython3",
   "version": "3.8.3"
  }
 },
 "nbformat": 4,
 "nbformat_minor": 4
}
